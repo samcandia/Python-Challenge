{
 "cells": [
  {
   "cell_type": "code",
   "execution_count": 1,
   "id": "f559dd24-8f33-4ed3-974c-38dd2602f674",
   "metadata": {
    "tags": []
   },
   "outputs": [],
   "source": [
    "import csv\n",
    "from pathlib import Path\n",
    "import pandas as pd\n",
    "\n",
    "csvpath = Path(\"Resources/election_data.csv\")\n",
    "electiondf = pd.read_csv(csvpath, encoding=\"UTF=8\")"
   ]
  },
  {
   "cell_type": "code",
   "execution_count": 2,
   "id": "801a28f5-31ec-4dc4-800a-dc8f6d425f9d",
   "metadata": {
    "tags": []
   },
   "outputs": [],
   "source": [
    "#total vote count\n",
    "totalvotes = len(electiondf)"
   ]
  },
  {
   "cell_type": "code",
   "execution_count": 6,
   "id": "41ba1d07-093b-4c27-8247-e40012ba13e9",
   "metadata": {
    "tags": []
   },
   "outputs": [
    {
     "data": {
      "text/plain": [
       "Candidate\n",
       "Diana DeGette              272892\n",
       "Charles Casper Stockham     85213\n",
       "Raymon Anthony Doane        11606\n",
       "Name: count, dtype: int64"
      ]
     },
     "execution_count": 6,
     "metadata": {},
     "output_type": "execute_result"
    }
   ],
   "source": [
    "candidatevotes = electiondf[\"Candidate\"].value_counts()\n",
    "candidatevotes"
   ]
  },
  {
   "cell_type": "code",
   "execution_count": 5,
   "id": "2f879409-eb38-451f-a53c-67ee58f19720",
   "metadata": {
    "tags": []
   },
   "outputs": [
    {
     "data": {
      "text/plain": [
       "Candidate\n",
       "Charles Casper Stockham     85213\n",
       "Diana DeGette              272892\n",
       "Raymon Anthony Doane        11606\n",
       "dtype: int64"
      ]
     },
     "execution_count": 5,
     "metadata": {},
     "output_type": "execute_result"
    }
   ],
   "source": [
    "total_votes = electiondf.groupby(\"Candidate\").size()\n",
    "total_votes"
   ]
  },
  {
   "cell_type": "code",
   "execution_count": 7,
   "id": "6d7ca674-6908-42b2-b09c-d1e4de95f59f",
   "metadata": {
    "tags": []
   },
   "outputs": [
    {
     "data": {
      "text/plain": [
       "Candidate\n",
       "Charles Casper Stockham    23.048543\n",
       "Diana DeGette              73.812248\n",
       "Raymon Anthony Doane        3.139209\n",
       "dtype: float64"
      ]
     },
     "execution_count": 7,
     "metadata": {},
     "output_type": "execute_result"
    }
   ],
   "source": [
    "percent_votes = electiondf.groupby(\"Candidate\").size()/ totalvotes * 100\n",
    "percent_votes"
   ]
  },
  {
   "cell_type": "code",
   "execution_count": 8,
   "id": "48726259-e660-4aa2-9ff2-54a637585ca3",
   "metadata": {
    "tags": []
   },
   "outputs": [
    {
     "data": {
      "text/html": [
       "<div>\n",
       "<style scoped>\n",
       "    .dataframe tbody tr th:only-of-type {\n",
       "        vertical-align: middle;\n",
       "    }\n",
       "\n",
       "    .dataframe tbody tr th {\n",
       "        vertical-align: top;\n",
       "    }\n",
       "\n",
       "    .dataframe thead th {\n",
       "        text-align: right;\n",
       "    }\n",
       "</style>\n",
       "<table border=\"1\" class=\"dataframe\">\n",
       "  <thead>\n",
       "    <tr style=\"text-align: right;\">\n",
       "      <th></th>\n",
       "      <th>totalvotes</th>\n",
       "      <th>percentvotes</th>\n",
       "    </tr>\n",
       "    <tr>\n",
       "      <th>Candidate</th>\n",
       "      <th></th>\n",
       "      <th></th>\n",
       "    </tr>\n",
       "  </thead>\n",
       "  <tbody>\n",
       "    <tr>\n",
       "      <th>Charles Casper Stockham</th>\n",
       "      <td>85213</td>\n",
       "      <td>23.048543</td>\n",
       "    </tr>\n",
       "    <tr>\n",
       "      <th>Diana DeGette</th>\n",
       "      <td>272892</td>\n",
       "      <td>73.812248</td>\n",
       "    </tr>\n",
       "    <tr>\n",
       "      <th>Raymon Anthony Doane</th>\n",
       "      <td>11606</td>\n",
       "      <td>3.139209</td>\n",
       "    </tr>\n",
       "  </tbody>\n",
       "</table>\n",
       "</div>"
      ],
      "text/plain": [
       "                         totalvotes  percentvotes\n",
       "Candidate                                        \n",
       "Charles Casper Stockham       85213     23.048543\n",
       "Diana DeGette                272892     73.812248\n",
       "Raymon Anthony Doane          11606      3.139209"
      ]
     },
     "execution_count": 8,
     "metadata": {},
     "output_type": "execute_result"
    }
   ],
   "source": [
    "results_df = pd.DataFrame({\"totalvotes\":total_votes,\"percentvotes\":percent_votes})\n",
    "results_df"
   ]
  },
  {
   "cell_type": "code",
   "execution_count": 77,
   "id": "19854013-445e-4b57-9372-9bcee98b8e18",
   "metadata": {
    "tags": []
   },
   "outputs": [
    {
     "name": "stdout",
     "output_type": "stream",
     "text": [
      "Charles Casper Stockham:    23.049%  (85213)\n",
      "Diana DeGette:    73.812%  (272892)\n",
      "Raymon Anthony Doane:    3.139%  (11606)\n"
     ]
    }
   ],
   "source": [
    "for index, row in results_df.iterrows():\n",
    "  print(f\"{index}:    {row['percentvotes'].round(3)}%  ({int(row['totalvotes'])})\")"
   ]
  },
  {
   "cell_type": "code",
   "execution_count": 10,
   "id": "03e572ee-f0ae-43a4-a1f4-e375c1bbcf98",
   "metadata": {
    "tags": []
   },
   "outputs": [
    {
     "name": "stdout",
     "output_type": "stream",
     "text": [
      " Winner: Diana DeGette\n"
     ]
    }
   ],
   "source": [
    "for index,row in results_df.loc[results_df[\"totalvotes\"]==results_df[\"totalvotes\"].max()].iterrows():\n",
    "    print(f\" Winner: {index}\")"
   ]
  },
  {
   "cell_type": "code",
   "execution_count": 86,
   "id": "a7a06862-36f2-4215-841a-2dc90a2d89fc",
   "metadata": {
    "tags": []
   },
   "outputs": [
    {
     "name": "stdout",
     "output_type": "stream",
     "text": [
      "Election Results\n",
      "--------------------------\n",
      "Total Votes: 369711\n",
      "--------------------------\n",
      "Charles Casper Stockham:    23.049%  (85213)\n",
      "Diana DeGette:    73.812%  (272892)\n",
      "Raymon Anthony Doane:    3.139%  (11606)\n",
      "-------------------------\n",
      " Winner: Diana DeGette\n"
     ]
    }
   ],
   "source": [
    "#print Election Results\n",
    "print(\"Election Results\")\n",
    "print(\"--------------------------\")\n",
    "print(f\"Total Votes: {totalvotes}\")\n",
    "print(\"--------------------------\")\n",
    "for index, row in results_df.iterrows():\n",
    "  print(f\"{index}:    {row['percentvotes'].round(3)}%  ({int(row['totalvotes'])})\")\n",
    "print(f\"-------------------------\")\n",
    "for index,row in results_df.loc[results_df[\"totalvotes\"]==results_df[\"totalvotes\"].max()].iterrows():\n",
    "    print(f\" Winner: {index}\")"
   ]
  },
  {
   "cell_type": "code",
   "execution_count": null,
   "id": "4904e6c2-597c-484f-bc91-c83cd0695506",
   "metadata": {},
   "outputs": [],
   "source": [
    "#export results to a txt file?"
   ]
  },
  {
   "cell_type": "code",
   "execution_count": null,
   "id": "fc7fd2e3-4cd1-4d5d-833e-9b0664b37044",
   "metadata": {},
   "outputs": [],
   "source": []
  }
 ],
 "metadata": {
  "kernelspec": {
   "display_name": "Python 3 (ipykernel)",
   "language": "python",
   "name": "python3"
  },
  "language_info": {
   "codemirror_mode": {
    "name": "ipython",
    "version": 3
   },
   "file_extension": ".py",
   "mimetype": "text/x-python",
   "name": "python",
   "nbconvert_exporter": "python",
   "pygments_lexer": "ipython3",
   "version": "3.11.5"
  }
 },
 "nbformat": 4,
 "nbformat_minor": 5
}
